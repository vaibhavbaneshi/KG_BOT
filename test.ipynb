{
 "cells": [
  {
   "cell_type": "code",
   "execution_count": 1,
   "id": "81abd73a",
   "metadata": {},
   "outputs": [
    {
     "name": "stdout",
     "output_type": "stream",
     "text": [
      "Collecting ipynb\n",
      "  Downloading ipynb-0.5.1-py3-none-any.whl.metadata (303 bytes)\n",
      "Downloading ipynb-0.5.1-py3-none-any.whl (6.9 kB)\n",
      "Installing collected packages: ipynb\n",
      "Successfully installed ipynb-0.5.1\n"
     ]
    }
   ],
   "source": [
    "!pip install ipynb"
   ]
  },
  {
   "cell_type": "code",
   "execution_count": 5,
   "id": "4e459ff2",
   "metadata": {},
   "outputs": [
    {
     "name": "stdout",
     "output_type": "stream",
     "text": [
      "✅ Connection successful: 1\n"
     ]
    }
   ],
   "source": [
    "# Import the driver\n",
    "from neo4j import GraphDatabase\n",
    "\n",
    "from configs.config import NEO4J_URI, NEO4J_USER, NEO4J_PASSWORD\n",
    "\n",
    "# Create driver instance\n",
    "driver = GraphDatabase.driver(NEO4J_URI, auth=(NEO4J_USER, NEO4J_PASSWORD))\n",
    "\n",
    "def test_connection():\n",
    "    try:\n",
    "        with driver.session() as session:\n",
    "            result = session.run(\"RETURN 1 AS test\")\n",
    "            print(\"✅ Connection successful:\", result.single()[\"test\"])\n",
    "    except Exception as e:\n",
    "        print(\"❌ Connection failed:\", e)\n",
    "    finally:\n",
    "        driver.close()\n",
    "\n",
    "# Run the test\n",
    "test_connection()\n"
   ]
  },
  {
   "cell_type": "code",
   "execution_count": null,
   "id": "f2ff2192",
   "metadata": {},
   "outputs": [],
   "source": []
  },
  {
   "cell_type": "code",
   "execution_count": null,
   "id": "ec4b3173",
   "metadata": {},
   "outputs": [],
   "source": [
    "uploaded_file = st.file_uploader(\"Upload your KG file\", type=[\"txt\", \"csv\"])\n",
    "\n",
    "if uploaded_file is not None:\n",
    "    try:\n",
    "        # Directly read content from UploadedFile\n",
    "        file_text = uploaded_file.read().decode(\"utf-8\")\n",
    "        collected_texts.append(file_text)\n",
    "    except Exception as e:\n",
    "        logger.error(f\"❌ Failed to read uploaded file: {e}\")\n"
   ]
  }
 ],
 "metadata": {
  "kernelspec": {
   "display_name": "venv",
   "language": "python",
   "name": "python3"
  },
  "language_info": {
   "codemirror_mode": {
    "name": "ipython",
    "version": 3
   },
   "file_extension": ".py",
   "mimetype": "text/x-python",
   "name": "python",
   "nbconvert_exporter": "python",
   "pygments_lexer": "ipython3",
   "version": "3.10.18"
  }
 },
 "nbformat": 4,
 "nbformat_minor": 5
}
